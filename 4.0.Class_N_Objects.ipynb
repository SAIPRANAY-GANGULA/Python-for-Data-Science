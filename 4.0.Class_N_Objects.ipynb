{
 "cells": [
  {
   "cell_type": "code",
   "execution_count": 4,
   "metadata": {},
   "outputs": [
    {
     "name": "stdout",
     "output_type": "stream",
     "text": [
      "9\n",
      "20\n"
     ]
    }
   ],
   "source": [
    "class Number:\n",
    "    def add(self, a, b): # notice self in aruguments\n",
    "        return a+b\n",
    "    def mul(self, a, b):\n",
    "        return a*b\n",
    "\n",
    "obj = Number()\n",
    "print(obj.add(4,5))\n",
    "print(obj.mul(4,5))"
   ]
  },
  {
   "cell_type": "code",
   "execution_count": 17,
   "metadata": {},
   "outputs": [
    {
     "name": "stdout",
     "output_type": "stream",
     "text": [
      "a = 4, b = 5\n",
      "a = 1, b = 3\n"
     ]
    }
   ],
   "source": [
    "class Myclass:\n",
    "    def __init__(self, p1, p2): #__init__ is constructor \n",
    "        self.a = p1\n",
    "        self.b = p2\n",
    "\n",
    "obj1 = Myclass(4,5) # initialise d values of a,b using constructor\n",
    "print('a = {}, b = {}'.format(obj1.a,obj1.b))\n",
    "\n",
    "obj2 = Myclass(1,3)\n",
    "print('a = {}, b = {}'.format(obj2.a,obj2.b))\n",
    "\n",
    "# print(dir(obj2))\n",
    "# print(obj2.__ge__)\n",
    "\n",
    "del obj2.a # deletes 'a' attribute of obj2\n",
    "# print(obj2.a)\n",
    "del obj2 # deletes total object\n",
    "# print(obj2)"
   ]
  },
  {
   "cell_type": "code",
   "execution_count": null,
   "metadata": {},
   "outputs": [],
   "source": [
    "'''Inheritance'''\n"
   ]
  }
 ],
 "metadata": {
  "kernelspec": {
   "display_name": "Python 3",
   "language": "python",
   "name": "python3"
  },
  "language_info": {
   "codemirror_mode": {
    "name": "ipython",
    "version": 3
   },
   "file_extension": ".py",
   "mimetype": "text/x-python",
   "name": "python",
   "nbconvert_exporter": "python",
   "pygments_lexer": "ipython3",
   "version": "3.8.1"
  }
 },
 "nbformat": 4,
 "nbformat_minor": 4
}
