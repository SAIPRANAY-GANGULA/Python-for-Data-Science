{
 "cells": [
  {
   "cell_type": "code",
   "execution_count": 2,
   "metadata": {},
   "outputs": [
    {
     "name": "stdout",
     "output_type": "stream",
     "text": [
      "helo!!!\n"
     ]
    }
   ],
   "source": [
    "print (\"helo!!!\")"
   ]
  },
  {
   "cell_type": "code",
   "execution_count": 57,
   "metadata": {},
   "outputs": [
    {
     "name": "stdout",
     "output_type": "stream",
     "text": [
      "Enter a value for a:{1,2,3}\n",
      "{1,2,3}\n",
      "<class 'str'>\n"
     ]
    }
   ],
   "source": [
    "a = input( \"Enter a value for a:\")\n",
    "print(a)\n",
    "print(type(a)) #input always returns a string"
   ]
  },
  {
   "cell_type": "code",
   "execution_count": 26,
   "metadata": {},
   "outputs": [
    {
     "name": "stdout",
     "output_type": "stream",
     "text": [
      "0\n",
      "1\n",
      "2\n",
      "3\n",
      "4\n",
      "100\n"
     ]
    }
   ],
   "source": [
    "for i in range(5):\n",
    "    print(i)\n",
    "print(100)"
   ]
  },
  {
   "cell_type": "code",
   "execution_count": 8,
   "metadata": {},
   "outputs": [
    {
     "name": "stdout",
     "output_type": "stream",
     "text": [
      "17\n"
     ]
    }
   ],
   "source": [
    "a = 1 + 2 + 3 + \\\n",
    "    5 + 6\n",
    "\n",
    "print(a)"
   ]
  },
  {
   "cell_type": "code",
   "execution_count": 9,
   "metadata": {},
   "outputs": [
    {
     "name": "stdout",
     "output_type": "stream",
     "text": [
      "17\n"
     ]
    }
   ],
   "source": [
    "a = (1 + 2 + 3 +\n",
    "    5 + 6)\n",
    "\n",
    "print(a)"
   ]
  },
  {
   "cell_type": "code",
   "execution_count": 1,
   "metadata": {},
   "outputs": [
    {
     "name": "stdout",
     "output_type": "stream",
     "text": [
      "1\n",
      "5.5\n",
      "ML\n"
     ]
    }
   ],
   "source": [
    "a = 1; b = 5.5; c = \"ML\";\n",
    "print(a)\n",
    "print(b)\n",
    "print(c)"
   ]
  },
  {
   "cell_type": "code",
   "execution_count": 1,
   "metadata": {},
   "outputs": [
    {
     "name": "stdout",
     "output_type": "stream",
     "text": [
      "1\n",
      "5.5\n",
      "ML\n"
     ]
    }
   ],
   "source": [
    "#Multiple Assignments\n",
    "a, b, c = 1, 5.5, \"ML\"\n",
    "print(a)\n",
    "print(b)\n",
    "print(c)"
   ]
  },
  {
   "cell_type": "code",
   "execution_count": 54,
   "metadata": {},
   "outputs": [
    {
     "name": "stdout",
     "output_type": "stream",
     "text": [
      "6\n",
      "31\n",
      "26\n"
     ]
    }
   ],
   "source": [
    "a = 0b110 #binary\n",
    "b = 0o37 #octal\n",
    "c = 0x1a #hexadecimal\n",
    "print(a)\n",
    "print(b)\n",
    "print(c)"
   ]
  },
  {
   "cell_type": "code",
   "execution_count": 3,
   "metadata": {},
   "outputs": [
    {
     "name": "stdout",
     "output_type": "stream",
     "text": [
      "140709227734880\n"
     ]
    }
   ],
   "source": [
    "x = 3\n",
    "print(id(x)) # address of 'x'"
   ]
  },
  {
   "cell_type": "code",
   "execution_count": 4,
   "metadata": {},
   "outputs": [
    {
     "name": "stdout",
     "output_type": "stream",
     "text": [
      "140709227734880\n"
     ]
    }
   ],
   "source": [
    "y = 3\n",
    "print(id(y)) # observe that address is same"
   ]
  },
  {
   "cell_type": "code",
   "execution_count": 6,
   "metadata": {},
   "outputs": [
    {
     "name": "stdout",
     "output_type": "stream",
     "text": [
      "140709227734848\n"
     ]
    }
   ],
   "source": [
    "y = 2\n",
    "print(id(y)) # as soon as we assigned  'y' a different value we ca see that observe that address is changed."
   ]
  },
  {
   "cell_type": "code",
   "execution_count": 8,
   "metadata": {},
   "outputs": [
    {
     "name": "stdout",
     "output_type": "stream",
     "text": [
      "<class 'int'>\n",
      "<class 'float'>\n",
      "<class 'str'>\n",
      "True\n"
     ]
    }
   ],
   "source": [
    "x = 3\n",
    "print(type(x)) # type of 'x'\n",
    "y = 3.3\n",
    "print(type(y)) # type of 'y'\n",
    "z = \"MI\"\n",
    "print(type(z)) # type of 'z'\n",
    "\n",
    "print(isinstance(z, str)) # 'isinstance\" is used to check data-type"
   ]
  },
  {
   "cell_type": "code",
   "execution_count": 15,
   "metadata": {},
   "outputs": [
    {
     "name": "stdout",
     "output_type": "stream",
     "text": [
      "This is A String Slicing Example\n",
      "T\n",
      "e\n",
      "his is A String Slicing Example\n",
      "This is A String Slicing Exam\n",
      "s is A String Slicing Exam\n"
     ]
    }
   ],
   "source": [
    "s = \"This is A String Slicing Example\"\n",
    "print(s)\n",
    "print(s[0])\n",
    "print(s[-1])\n",
    "print(s[1 : ])\n",
    "print(s[ : -3])\n",
    "print(s[3 : -3])"
   ]
  },
  {
   "cell_type": "code",
   "execution_count": 78,
   "metadata": {},
   "outputs": [
    {
     "name": "stdout",
     "output_type": "stream",
     "text": [
      "124.784\n",
      "<class 'float'>\n",
      "\n",
      "\n",
      "1\n",
      "<class 'int'>\n",
      "\n",
      "\n",
      "555\n",
      "<class 'int'>\n",
      "\n",
      "\n",
      "555.0\n",
      "<class 'float'>\n",
      "\n",
      "\n",
      "123\n",
      "<class 'str'>\n",
      "\n",
      "\n",
      "1.784\n",
      "<class 'str'>\n"
     ]
    }
   ],
   "source": [
    "#python Type-Conversion\n",
    "number_integer = 123\n",
    "number_float = 1.784\n",
    "string = '555'\n",
    "sum = number_integer + number_float\n",
    "print(sum)\n",
    "print(type(sum)) #implicit_conversion\n",
    "\n",
    "\"\"\" Below examples are of explicit type conversion\"\"\"\n",
    "print('\\n')\n",
    "print(int(number_float))\n",
    "print(type(int(number_float)))\n",
    "\n",
    "print('\\n')\n",
    "print(int(string))\n",
    "print(type(int(string)))\n",
    "\n",
    "print('\\n')\n",
    "print(float(string))\n",
    "print(type(float(string)))\n",
    "\n",
    "print('\\n')\n",
    "print(str(number_integer))\n",
    "print(type(str(number_integer)))\n",
    "\n",
    "print('\\n')\n",
    "print(str(number_float))\n",
    "print(type(str(number_float)))"
   ]
  },
  {
   "cell_type": "code",
   "execution_count": 92,
   "metadata": {},
   "outputs": [
    {
     "name": "stdout",
     "output_type": "stream",
     "text": [
      "foofoofoo\n",
      "4.833333333333333\n",
      "4.0\n",
      "2.5\n",
      "32\n"
     ]
    }
   ],
   "source": [
    "# operators in python\n",
    "# '+' operator is used for addition in case of numbers and concatination in case of strings\n",
    "# '-' operator is used for subtraction in case of numbers\n",
    "# '*' operator is used for multiplication in case of numbers and repeater in case of strings\n",
    "# '/' operator is used to divide\n",
    "# '//' operator is used to get quotient\n",
    "# '%' operator is used to get remainder\n",
    "# '**' operator is used as power \n",
    "a = 'foo'\n",
    "print(a*3) # '*'used as repeater in case of string\n",
    "print(14.5 / 3)\n",
    "print(14.5 // 3)\n",
    "print(14.5 % 3)\n",
    "print(2**5) # 2 to the power of 5 = 32"
   ]
  },
  {
   "cell_type": "code",
   "execution_count": 122,
   "metadata": {},
   "outputs": [
    {
     "name": "stdout",
     "output_type": "stream",
     "text": [
      "False True False\n",
      "\n",
      "\n",
      "Else is executed\n",
      "\n",
      "\n",
      "Else is executed after loop break-down\n",
      "55\n",
      "\n",
      "\n",
      "1\n",
      "3.3\n",
      "String\n",
      "\n",
      "\n",
      "1\n",
      "3.3\n",
      "String\n",
      "Else is executed after loop break-down\n",
      "\n",
      "\n",
      "45\n",
      "\n",
      "\n",
      "Statement after Loop\n"
     ]
    }
   ],
   "source": [
    "#Decision Making and Loops\n",
    "# '>', '>=', '<', '<=', '==', '!=' are comparison operators\n",
    "print(True and False, True or False, not True)\n",
    "\n",
    "print('\\n')\n",
    "if (False):\n",
    "    print(\"If is executed\")\n",
    "elif( False):\n",
    "    print(\"Elif is executed\")\n",
    "else:\n",
    "    print(\"Else is executed\")\n",
    "\n",
    "print('\\n')\n",
    "i = 1\n",
    "sum = 0\n",
    "\"\"\"While Loop\"\"\"\n",
    "# while i<=10:\n",
    "#     sum = sum + i\n",
    "#     i = i + 1\n",
    "# print(sum)\n",
    "\n",
    "\"\"\"While Loop with else\"\"\"\n",
    "while i<=10:\n",
    "    sum = sum + i\n",
    "    i = i + 1\n",
    "else:\n",
    "    print(\"Else is executed after loop break-down\") \n",
    "    print(sum)\n",
    "    \n",
    "print('\\n')    \n",
    "# for Loop is used to iterate over a sequence or other iterable objects\n",
    "# string is a sequence of characters, Lists are sequence if items, range() is created to sequence of numbers\n",
    "list = [ 1, 3.3, \"String\"]\n",
    "for item in list:\n",
    "    print(item)\n",
    "    \n",
    "print('\\n') \n",
    "for item in list:\n",
    "    print(item)\n",
    "else:\n",
    "    print(\"Else is executed after loop break-down\")\n",
    "\n",
    "print('\\n') \n",
    "s = 0\n",
    "for i in range(1,10):\n",
    "    s = s + i\n",
    "print(s)\n",
    "# 'break' statement terminates the loop containing it\n",
    "# 'continue' statement is used to skip the rest of the code inside a loop for current iteration only\n",
    "# 'pass' statement: Suppose, we have a loop or a function that is not implemented yet, nut we want to implement it in future.\n",
    "# It cannot have empty body, otherwise, the interpreter will complain\n",
    "print('\\n')\n",
    "sequence = { 's', 'a', 'i'}\n",
    "for i in sequence:\n",
    "    pass\n",
    "print(\"Statement after Loop\")"
   ]
  },
  {
   "cell_type": "code",
   "execution_count": 138,
   "metadata": {},
   "outputs": [
    {
     "name": "stdout",
     "output_type": "stream",
     "text": [
      "Hello Pranay\n",
      "How are you?\n",
      "\n",
      "\n",
      "5\n",
      "\n",
      "\n",
      "Hello Pranay,Good Morning !!!\n",
      "Hello Pranay,How do you do?\n",
      "Hello Sai,What's the matter\n",
      "\n",
      "\n",
      "9\n",
      "6\n",
      "\n",
      "\n",
      "('name1', 'name2', 'name3')\n",
      "\n",
      "\n",
      "6\n"
     ]
    }
   ],
   "source": [
    "\"\"\"Functions in Python\"\"\"\n",
    "\n",
    "def greet(name):\n",
    "    print(\"Hello\", name)\n",
    "    print(\"How are you?\")\n",
    "\n",
    "greet('Pranay')\n",
    "\n",
    "print('\\n')\n",
    "def add_numbers(n1, n2):\n",
    "    return n1+n2\n",
    "print(add_numbers(2,3))\n",
    "\n",
    "print('\\n')\n",
    "def greet1(name, msg=\"Good Morning !!!\"): #default arguments\n",
    "    print(\"Hello \" + name + \",\" + msg)\n",
    "greet1('Pranay')\n",
    "greet1('Pranay','How do you do?')\n",
    "greet1(msg = 'What\\'s the matter', name ='Sai') #keyword arguments\n",
    "\n",
    "# def default_arguments(name, msg=\" something\", msg1):\n",
    "#     print(msg,msg1);\n",
    "# above function is not acceptable because to the right of default arguments non-default arguments are not allowed\n",
    "\n",
    "print('\\n')\n",
    "square = lambda x: x*x; #anonymous function using 'lambda' keyword\n",
    "print(square(3))\n",
    "sum = lambda a,b,c: a+b+c\n",
    "print(sum(1,2,3))\n",
    "\n",
    "print('\\n')\n",
    "def greet2(*names):\n",
    "    print(names)\n",
    "\n",
    "greet2('name1', 'name2', 'name3') \n",
    "#argumensts passed, 'name1','name2','name3' is wrapped up into a tuple before it is passed to greet2() function\n",
    "\n",
    "print('\\n') #recursion example\n",
    "def cal_sum(n):\n",
    "    if(n==1):\n",
    "        return 1\n",
    "    else:\n",
    "        return n + cal_sum(n-1)\n",
    "s = cal_sum(3)\n",
    "print(s)"
   ]
  },
  {
   "cell_type": "code",
   "execution_count": 43,
   "metadata": {},
   "outputs": [
    {
     "name": "stdout",
     "output_type": "stream",
     "text": [
      "[1, 3.3, 'String']\n",
      "[1, True, 'String']\n",
      "\n",
      "\n",
      "3\n",
      "[1, True, 'String']\n",
      "[1, True, 'String', 'added Element']\n",
      "[1, True, 'inserted Element', 'String', 'added Element']\n",
      "[1, True, 'inserted Element', 'added Element']\n",
      "[1, True, 'inserted Element']\n",
      "[1, 'inserted Element']\n",
      "\n",
      "\n",
      "['one', 'two', 'three', 'four', ['five', 'six']]\n",
      "['one', 'two', 'three', 'four', 'five', 'six']\n",
      "\n",
      "\n",
      "['six', 'five', 'four', 'three', 'two', 'one']\n",
      "\n",
      "\n",
      "[3, 1, 6, 2, 8]\n",
      "[1, 2, 3, 6, 8]\n",
      "[8, 6, 3, 2, 1]\n",
      "[1, 2, 3, 6, 8]\n",
      "\n",
      "\n",
      "<class 'list'>\n",
      "['1', '2', '3', '4', '5']\n",
      "\n",
      "\n",
      "[1, 2, 3, 6, 8]\n",
      "[1, 3, 8]\n",
      "[3, 8]\n",
      "\n",
      "count the frequency\n",
      "2\n",
      "4\n",
      "\n",
      "List Comprehension\n",
      "[1, 4, 9, 16]\n",
      "[1, 4, 9, 16]\n",
      "[-3, -2, -1]\n",
      "[(0, 0), (1, 1), (2, 4), (3, 9), (4, 16), (5, 25)]\n",
      "\n",
      "Nested List Comprehension\n",
      "[[1, 2, 3, 4], [5, 6, 7, 8], [9, 10, 11, 12]]\n",
      "[[1, 5, 9], [2, 6, 10], [3, 7, 11], [4, 8, 12]]\n",
      "[[1, 5, 9], [2, 6, 10], [3, 7, 11], [4, 8, 12]]\n"
     ]
    }
   ],
   "source": [
    "\"\"\"List is an ordered sequence of items. It is one of the most used datatype in Python and is very flexible. \n",
    "All the items in a list do not need to be of the same type.\n",
    "Declaring a list is , Items separated by commas are enclosed within brackets [ ].\"\"\"\n",
    "list = [ 1, 3.3, \"String\"]\n",
    "print(list)\n",
    "list[1] = True #Lists are mutable, meaning, value of elements of a list can be altered.\n",
    "print(list)\n",
    "\n",
    "#operations on lists\n",
    "print('\\n')\n",
    "print(len(list))\n",
    "print(list)\n",
    "list.append(\"added Element\") # appended element to list\n",
    "print(list)\n",
    "list.insert(2, \"inserted Element\") # inserted element to list at index '2'\n",
    "print(list)\n",
    "list.remove(\"String\") #deleted \"String\" element from list\n",
    "print(list)\n",
    "list.pop(3) #deleted element at index '3'\n",
    "print(list)\n",
    "del list[1] #deleted element at index '1'\n",
    "print(list)\n",
    "\n",
    "print('\\n')\n",
    "#difference between append() and extend()\n",
    "lst = ['one', 'two', 'three', 'four']\n",
    "lst2 = ['five', 'six']\n",
    "\n",
    "#append \n",
    "lst.append(lst2)\n",
    "print(lst)\n",
    "\n",
    "lst = ['one', 'two', 'three', 'four']\n",
    "lst2 = ['five', 'six']\n",
    "#extend\n",
    "lst.extend(lst2)\n",
    "\n",
    "print(lst)\n",
    "\n",
    "print('\\n')\n",
    "lst.reverse() #reverse the list\n",
    "print(lst)\n",
    "\n",
    "print('\\n')\n",
    "numbers = [3, 1, 6, 2, 8]\n",
    "sorted_numbers_lst = sorted(numbers) #sort the list using 'sorted()' function\n",
    "print(numbers)\n",
    "print(sorted_numbers_lst)\n",
    "reverse_sorted_lst = sorted(numbers, reverse = True) #sort the list in reverse-order\n",
    "print(reverse_sorted_lst)\n",
    "numbers.sort() #sort the list using 'sort()' function\n",
    "print(numbers)\n",
    "\n",
    "print('\\n')\n",
    "string = \"1,2,3,4,5\"\n",
    "string_list = string.split(',') # string split to create a list\n",
    "print(type(string_list))\n",
    "print(string_list)\n",
    "\n",
    "print('\\n')\n",
    "print (numbers)\n",
    "print(numbers[::2]) #print alternate elements in a list [start : end : step-size]\n",
    "print(numbers[2::2]) #print elemnts start from 2 through rest of the list alternatively\n",
    "\n",
    "print('\\ncount the frequency')\n",
    "numbers = [1, 2, 3, 1, 3, 4, 2, 5, 3, 3]\n",
    "print(numbers.count(1))#frequency of 1 in a list\n",
    "print(numbers.count(3))#frequency of 3 in a list\n",
    "\n",
    "print('\\nList Comprehension')\n",
    "list = []\n",
    "for i in range(1,5):\n",
    "    list.append(i**2) # without list comprehension\n",
    "print(list) \n",
    "list_one = [ i**2 for i in range(1,5)] # with list comprehension\n",
    "print(list_one)\n",
    "list_two = [ i for i in range(-3,3) if (i<0) ]\n",
    "print(list_two)\n",
    "list_three = [ (i, i**2) for i in range(6)]\n",
    "print(list_three)\n",
    "\n",
    "print('\\nNested List Comprehension')\n",
    "matrix = [\n",
    "    [1,2,3,4],\n",
    "    [5,6,7,8],\n",
    "    [9,10,11,12]\n",
    "]\n",
    "transposed_matrix = []\n",
    "\n",
    "#without comprehension\n",
    "for i in range(4):\n",
    "    temp_lst = []\n",
    "    for row in matrix:\n",
    "        temp_lst.append(row[i])\n",
    "    transposed_matrix.append(temp_lst)\n",
    "\n",
    "print (matrix)\n",
    "print(transposed_matrix)\n",
    "\n",
    "#with comprehension\n",
    "transposed_matrix_with_comprehension = []\n",
    "transposed_matrix_with_comprehension = [ [ row[i] for row in matrix ] for i in range(4)]\n",
    "print(transposed_matrix_with_comprehension )"
   ]
  },
  {
   "cell_type": "code",
   "execution_count": 45,
   "metadata": {},
   "outputs": [
    {
     "name": "stdout",
     "output_type": "stream",
     "text": [
      "False\n",
      "2\n"
     ]
    }
   ],
   "source": [
    "\"\"\"Tuple is an ordered sequence of items same as list.\n",
    "The only difference is that tuples are immutable. Tuples once created cannot be modified\"\"\"\n",
    "tuple = ( 2, 5.5, False)\n",
    "print(tuple[2])\n",
    "#tuple[1] = 1; This cannot be as tuple's are immutable\n",
    "\n",
    "t = (1, 2, 3, 1, 3, 3, 4, 1)\n",
    "\n",
    "print(t.index(3)) #return index of the first element is equal to 3"
   ]
  },
  {
   "cell_type": "code",
   "execution_count": 61,
   "metadata": {},
   "outputs": [
    {
     "name": "stdout",
     "output_type": "stream",
     "text": [
      "{' pranay', True, 4, 5.5, (1+2j)}\n",
      "{10, 3, 20}\n",
      "<class 'set'>\n",
      "{' pranay', True, 4, 5.5, (1+2j)} {10, 3, 20}\n",
      "\n",
      "Union : {0, 1, 2, 3, 4, 5, 6, 8}\n",
      "\n",
      "Union : {0, 1, 2, 3, 4, 5, 6, 8}\n",
      "Intersection : {2, 4}\n",
      "Intersection : {2, 4}\n",
      "Difference : {0, 8, 6}\n",
      "Difference : {0, 8, 6}\n",
      "Symmetric difference : {0, 1, 3, 5, 6, 8}\n",
      "Symmetric difference : {0, 1, 3, 5, 6, 8}\n",
      "Is subset: False\n",
      "\n",
      "\n",
      "{1.0, 'Hello', (1, 2, 3)}\n",
      "{'addedItem', 1.0, 'Hello', (1, 2, 3)}\n",
      "{'addedItem', 1.0, 'Hello', 2, 3, (1, 2, 3)}\n",
      "{'addedItem', 1.0, 2, 3, 4, 5, 6, 7, 8, 9, (1, 2, 3), 'Hello'}\n",
      "{'addedItem', 3, 4, 5, 6, 7, 8, 9, (1, 2, 3), 'Hello'}\n",
      "set()\n",
      "\n",
      "\n"
     ]
    }
   ],
   "source": [
    "'''Set is an unordered collection of unique items.\n",
    "Set is defined by values separated by comma inside braces { }.\n",
    "Items in a set are not ordered'''\n",
    "\n",
    "setExample = { 4, 4, 1+2j, 5.5, True, \" pranay\"}\n",
    "print(setExample)\n",
    "\n",
    "setExample1 = { 10, 10, 20, 3}\n",
    "print(setExample1) #set won't consider duplicate items\n",
    "print(type(setExample))\n",
    "print(setExample,setExample1)\n",
    "\n",
    "\n",
    "# sets are define \n",
    "A = {0, 2, 4, 6, 8}; \n",
    "B = {1, 2, 3, 4, 5}; \n",
    "print(\"\\nUnion :\", A | B) \n",
    "print(\"\\nUnion :\", A.union(B)) \n",
    "print(\"Intersection :\", A & B) \n",
    "print(\"Intersection :\", A.intersection(B)) \n",
    "print(\"Difference :\", A - B)\n",
    "print(\"Difference :\", A.difference(B))\n",
    "print(\"Symmetric difference :\", A ^ B)\n",
    "print(\"Symmetric difference :\", A.symmetric_difference(B))\n",
    "print('Is subset:',A.issubset(B))\n",
    "\n",
    "# set of mixed datatypes\n",
    "my_set = {1.0, \"Hello\", (1, 2, 3)}\n",
    "print('\\n')\n",
    "print(my_set)\n",
    "my_set.add('addedItem')\n",
    "print(my_set)\n",
    "my_set.update({1,2,3})\n",
    "print(my_set)\n",
    "my_set.update({4,5,6}, [7,8,9])\n",
    "print(my_set)\n",
    "my_set.remove(1)\n",
    "my_set.discard(2)\n",
    "#my_set.remove(10) #generates key-error as 10 is not present\n",
    "my_set.discard(10) #does-not generate any error \n",
    "print(my_set)\n",
    "my_set.pop() #removes random element from list\n",
    "my_set.clear() # empties all elements on the list\n",
    "print(my_set)\n",
    "#s2  = { 2, 3, [1,2] } #set cannot have mutable items\n",
    "\n",
    "print('\\n')\n",
    "set1 = frozenset([1, 2, 3, 4])\n",
    "set2 = frozenset([3, 4, 5, 6])\n",
    "#While tuple are immutable lists, frozen sets are immutable sets\n",
    "\n",
    "#try to add element into set1 gives an error\n",
    "#set1.add(5)"
   ]
  },
  {
   "cell_type": "code",
   "execution_count": 83,
   "metadata": {},
   "outputs": [
    {
     "name": "stdout",
     "output_type": "stream",
     "text": [
      "{1: 'abc', 2: 'xyz'}\n",
      "{'name': 'satish', 1: ['abc', 'xyz']}\n",
      "{1: 'abc', 2: 'xyz'}\n",
      "abc\n",
      "abc\n",
      "None\n",
      "\n",
      "\n",
      "{'name': 'raju', 'age': 27, 'address': 'guntur'}\n",
      "{'name': 'raju', 'age': 27, 'address': 'guntur', 'degree': 'M.Tech'}\n",
      "{'name': 'raju', 'age': 27, 'address': 'guntur', 'degree': 'M.Tech'}\n",
      "\n",
      "Dictionary Methods\n",
      "{'one': 0, 'two': 0, 'three': 0}\n",
      "dict_items([(2, 4), (3, 9), (4, 16), (5, 25)])\n",
      "dict_keys([2, 3, 4, 5])\n",
      "dict_values([4, 9, 16, 25])\n",
      "['__class__', '__contains__', '__delattr__', '__delitem__', '__dir__', '__doc__', '__eq__', '__format__', '__ge__', '__getattribute__', '__getitem__', '__gt__', '__hash__', '__init__', '__init_subclass__', '__iter__', '__le__', '__len__', '__lt__', '__ne__', '__new__', '__reduce__', '__reduce_ex__', '__repr__', '__reversed__', '__setattr__', '__setitem__', '__sizeof__', '__str__', '__subclasshook__', 'clear', 'copy', 'fromkeys', 'get', 'items', 'keys', 'pop', 'popitem', 'setdefault', 'update', 'values']\n",
      "\n",
      "Dictionary Comprehension\n",
      "('a', 1)\n",
      "('b', 2)\n",
      "('c', 3)\n",
      "{'b': 2, 'c': 3}\n",
      "{'bc': 4, 'cc': 6}\n"
     ]
    }
   ],
   "source": [
    "\"\"\"Dictionary is an unordered collection of key-value pairs.\n",
    "In Python, dictionaries are defined within braces {} with each item being a pair in the form key:value. \n",
    "Key and value can be of any type.\"\"\"\n",
    "\n",
    "#empty dictionary\n",
    "my_dict = {}\n",
    "my_dict = {1: 'abc', 2: 'xyz'} #dictionary with integer keys\n",
    "print(my_dict)\n",
    "my_dict = {'name': 'satish', 1: ['abc', 'xyz']} #dictionary with mixed keys\n",
    "print(my_dict)\n",
    "my_dict = dict()#create empty dictionary using dict()\n",
    "my_dict = dict([(1, 'abc'), (2, 'xyz')])    #create a dict with list of tuples\n",
    "print(my_dict)\n",
    "print(my_dict[1])\n",
    "#print(my_dict[3]) #throws key-error\n",
    "print(my_dict.get(1))\n",
    "print(my_dict.get(3)) #does-not throw key-error instead returns none\n",
    "\n",
    "print('\\n')\n",
    "my_dict = {'name': 'satish', 'age': 27, 'address': 'guntur'}\n",
    "my_dict['name'] = 'raju' #update name \n",
    "print(my_dict)\n",
    "my_dict['degree'] = 'M.Tech' #add new key\n",
    "print(my_dict)\n",
    "my_dict_copy = my_dict.copy()\n",
    "print(my_dict_copy)\n",
    "\n",
    "print('\\nDictionary Methods')\n",
    "dict_one = {}.fromkeys(['one', 'two', 'three'],0)\n",
    "print(dict_one)\n",
    "subjects = {2:4, 3:9, 4:16, 5:25}\n",
    "print(subjects.items()) #return a new view of the dictionary items (key, value)\n",
    "print(subjects.keys()) #return a new view of the dictionary keys\n",
    "print(subjects.values()) #return a new view of the dictionary values\n",
    "d = {}\n",
    "print(dir(d))\n",
    "\n",
    "print('\\nDictionary Comprehension')\n",
    "d = {'a': 1, 'b': 2, 'c': 3}\n",
    "for pair in d.items():\n",
    "    print(pair)\n",
    "dict_one = {k:v for k,v in d.items() if v>=2} #Creating a new dictionary with only pairs where the value is larger than 1\n",
    "print(dict_one)\n",
    "dict_two = { k+'c':v*2 for k,v in d.items() if v>=2}\n",
    "print(dict_two)"
   ]
  },
  {
   "cell_type": "code",
   "execution_count": 90,
   "metadata": {},
   "outputs": [
    {
     "name": "stdout",
     "output_type": "stream",
     "text": [
      "HCF of 98,78 is 2\n",
      "This Function computes HCF of two numbers a,b\n"
     ]
    }
   ],
   "source": [
    "'''Functions'''\n",
    "\n",
    "def compute_HCF(a,b):\n",
    "    '''This Function computes HCF of two numbers a,b'''\n",
    "    smaller = a if b>a else b\n",
    "    hcf = 1\n",
    "    for i in range(2, smaller + 1):\n",
    "        if (a % i == 0 ) and (b % i == 0):\n",
    "            hcf = i\n",
    "    print(\"HCF of {},{} is {}\".format(a,b,hcf))\n",
    "\n",
    "compute_HCF(98,78)\n",
    "        \n",
    "print(compute_HCF.__doc__) # prints Doc string (Documentation string)"
   ]
  }
 ],
 "metadata": {
  "kernelspec": {
   "display_name": "Python 3",
   "language": "python",
   "name": "python3"
  },
  "language_info": {
   "codemirror_mode": {
    "name": "ipython",
    "version": 3
   },
   "file_extension": ".py",
   "mimetype": "text/x-python",
   "name": "python",
   "nbconvert_exporter": "python",
   "pygments_lexer": "ipython3",
   "version": "3.8.1"
  }
 },
 "nbformat": 4,
 "nbformat_minor": 4
}
