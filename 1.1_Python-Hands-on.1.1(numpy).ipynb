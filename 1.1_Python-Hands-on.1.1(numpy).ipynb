{
 "cells": [
  {
   "cell_type": "code",
   "execution_count": 5,
   "metadata": {},
   "outputs": [
    {
     "name": "stdout",
     "output_type": "stream",
     "text": [
      "[1 2 3 4]\n",
      "<class 'numpy.ndarray'>\n",
      "[0 1 2 3 4 5 6 7 8 9]\n"
     ]
    }
   ],
   "source": [
    "import numpy as np\n",
    "numpy_array = np.array([1,2,3,4])\n",
    "print(numpy_array)\n",
    "print(type(numpy_array))\n",
    "print(np.arange(10))"
   ]
  },
  {
   "cell_type": "code",
   "execution_count": 24,
   "metadata": {},
   "outputs": [
    {
     "name": "stdout",
     "output_type": "stream",
     "text": [
      "213 µs ± 5.44 µs per loop (mean ± std. dev. of 7 runs, 1000 loops each)\n"
     ]
    }
   ],
   "source": [
    "lst = list(range(1000))\n",
    "%timeit [ i**2 for i in lst]\n",
    "# print([ i**2 for i in lst])"
   ]
  },
  {
   "cell_type": "code",
   "execution_count": 23,
   "metadata": {},
   "outputs": [
    {
     "name": "stdout",
     "output_type": "stream",
     "text": [
      "1.61 µs ± 73.6 ns per loop (mean ± std. dev. of 7 runs, 1000000 loops each)\n"
     ]
    }
   ],
   "source": [
    "a = np.arange(1000)\n",
    "%timeit a**2\n",
    "# print(a**2)"
   ]
  },
  {
   "cell_type": "code",
   "execution_count": 96,
   "metadata": {},
   "outputs": [
    {
     "name": "stdout",
     "output_type": "stream",
     "text": [
      "[1 2 3 4]\n",
      "(4,)\n",
      "4\n",
      "1\n",
      "\n",
      "\n",
      "[[1 2 3 4]\n",
      " [5 6 7 8]]\n",
      "(2, 4)\n",
      "2\n",
      "2\n",
      "\n",
      "\n",
      "[[[ 1  2  3  4]\n",
      "  [ 5  6  7  8]]\n",
      "\n",
      " [[ 9 10 11 12]\n",
      "  [13 14 15 16]]\n",
      "\n",
      " [[17 18 19 20]\n",
      "  [21 22 23 24]]]\n",
      "(3, 2, 4)\n",
      "3\n",
      "3\n"
     ]
    }
   ],
   "source": [
    "a = np.array([1,2,3,4]) #1-D (vector)\n",
    "print(a)\n",
    "print(a.shape) #shape - no of elements\n",
    "print(len(a)) # length of an 1-D array\n",
    "print(a.ndim) # ndim = no of dimensons\n",
    "\n",
    "print('\\n')\n",
    "a = np.array([[1,2,3,4],[5,6,7,8]]) #2-D (matrix)\n",
    "print(a)\n",
    "print(a.shape) #shape - (rows, columns)\n",
    "print(len(a))  #returns the size of the first dimension (rows)\n",
    "print(a.ndim) # ndim = no of dimensons\n",
    "\n",
    "print('\\n')\n",
    "a = np.array([[[1,2,3,4],[5,6,7,8]], [[9,10,11,12], [13,14,15,16]], [[17,18,19,20],[21,22,23,24]]]) \n",
    "#3-D (tensor), n-D (Tensor) where n>2\n",
    "print(a)\n",
    "print(a.shape) #shape - (no of matrices, rows of each matrix,columns of each matrix)\n",
    "# (3,2,4) means there are 3 matrices of size 2*4 (2 rows ans 4 columns)\n",
    "print(len(a))  #returns the size of the first dimension (no of matrices)\n",
    "print(a.ndim) # ndim = no of dimensons"
   ]
  },
  {
   "cell_type": "code",
   "execution_count": 67,
   "metadata": {},
   "outputs": [
    {
     "name": "stdout",
     "output_type": "stream",
     "text": [
      "[0 1 2 3 4 5 6 7 8 9]\n",
      "[1 2 3 4 5 6 7 8 9]\n",
      "[0 2 4 6 8]\n",
      "\n",
      "\n",
      "[0.  0.2 0.4 0.6 0.8 1. ]\n",
      "[ 1.  2.  3.  4.  5.  6.  7.  8.  9. 10.]\n",
      "[ 1.  2.  3.  4.  5.  6.  7.  8.  9. 10.]\n",
      "[ 0.          1.11111111  2.22222222  3.33333333  4.44444444  5.55555556\n",
      "  6.66666667  7.77777778  8.88888889 10.        ]\n",
      "\n",
      "\n",
      "[[1. 1. 1.]\n",
      " [1. 1. 1.]\n",
      " [1. 1. 1.]]\n",
      "\n",
      "\n",
      "[[0. 0. 0.]\n",
      " [0. 0. 0.]\n",
      " [0. 0. 0.]]\n",
      "\n",
      "\n",
      "[[1. 0. 0. 0.]\n",
      " [0. 1. 0. 0.]\n",
      " [0. 0. 1. 0.]\n",
      " [0. 0. 0. 1.]]\n",
      "\n",
      "\n",
      "[[1 0 0 0]\n",
      " [0 2 0 0]\n",
      " [0 0 3 0]\n",
      " [0 0 0 4]]\n",
      "[1 2 3 4]\n"
     ]
    }
   ],
   "source": [
    "'''Different ways of creating numpy arrays'''\n",
    "import numpy as np\n",
    "a = np.arange(10)\n",
    "print(a)\n",
    "a = np.arange(1,10) #(start, end, step-size)\n",
    "print(a)\n",
    "a = np.arange(0,10,2) #(start, end, step-size)\n",
    "print(a)\n",
    "\n",
    "print('\\n')\n",
    "a = np.linspace(0,1,6) #start, end, number of points i.e, dividing space between 0 and 1 into '6' equal spaced regions\n",
    "print(a)\n",
    "a = np.linspace(1,10,10) #start, end, number of points i.e, dividing space between 1 and 10 into '10' equal spaced regions\n",
    "print(a)\n",
    "print(a)\n",
    "a = np.linspace(0,10,10) #start, end, number of points i.e, dividing space between 0 and 10 into '10' equal spaced regions\n",
    "print(a)\n",
    "\n",
    "print('\\n')\n",
    "a = np.ones((3,3))\n",
    "print(a)\n",
    "\n",
    "print('\\n')\n",
    "a = np.zeros((3,3))\n",
    "print(a)\n",
    "\n",
    "print('\\n')\n",
    "a = np.eye(4,4) #identity matrix\n",
    "print(a)\n",
    "\n",
    "print('\\n')\n",
    "a = np.diag([1,2,3,4]) # creates a diagonal matrix with 4*4 shape and diagonal elements as (1,2,3,4)\n",
    "print(a)\n",
    "print(np.diag(a))"
   ]
  },
  {
   "cell_type": "code",
   "execution_count": 75,
   "metadata": {},
   "outputs": [
    {
     "name": "stdout",
     "output_type": "stream",
     "text": [
      "[0 1 2 3 4 5 6 7 8 9]\n",
      "[1 3 5 7]\n",
      "\n",
      "\n",
      "[ 0  1  2  3  4 10 10 10 10 10]\n",
      "\n",
      "\n",
      "[0 1 2 3 4 4 3 2 1 0]\n"
     ]
    }
   ],
   "source": [
    "a = np.arange(10)\n",
    "print(a)\n",
    "print(a[1:8:2]) # [startindex: endindex(exclusive) : step]\n",
    "\n",
    "print('\\n')\n",
    "a = np.arange(10) #we can also combine assignment and slicing:\n",
    "a[5:] = 10\n",
    "print(a)\n",
    "\n",
    "print('\\n')\n",
    "b = np.arange(5)\n",
    "a[5:] = b[::-1]  #assigning b[::-1] = b[0:len:-1]; -1 means process in reverse-order\n",
    "print(a)"
   ]
  },
  {
   "cell_type": "code",
   "execution_count": 89,
   "metadata": {},
   "outputs": [
    {
     "name": "stdout",
     "output_type": "stream",
     "text": [
      "[0 1 2 3 4 5 6 7 8 9]\n",
      "[0 2 4 6 8]\n",
      "True\n",
      "[  0   1   2   3 100   5   6   7   8   9]\n",
      "[  0   2 100   6   8]\n",
      "\n",
      "\n",
      "[0 1 2 3 4 5 6 7 8 9]\n",
      "[0 2 4 6 8]\n",
      "False\n",
      "[0 1 2 3 4 5 6 7 8 9]\n",
      "[  0   2 100   6   8]\n"
     ]
    }
   ],
   "source": [
    "'''Copies and Views'''\n",
    "a = np.arange(10)\n",
    "print(a)\n",
    "b = a[::2] #shallow copy\n",
    "print(b)\n",
    "print(np.shares_memory(a,b)) \n",
    "b[2] = 100\n",
    "print(a)\n",
    "print(b)\n",
    "\n",
    "print('\\n')\n",
    "a = np.arange(10)\n",
    "print(a)\n",
    "c = a[::2].copy() #deep copy\n",
    "print(c)\n",
    "print(np.shares_memory(a,c))\n",
    "c[2] = 100\n",
    "print(a)\n",
    "print(c)"
   ]
  },
  {
   "cell_type": "code",
   "execution_count": 93,
   "metadata": {},
   "outputs": [
    {
     "name": "stdout",
     "output_type": "stream",
     "text": [
      "[12 14 16 16 16 14  3 15 12  7 13  6  1 13 17]\n",
      "[12 14 16 16 16 14 12  6]\n",
      "[12 14 16 16 16 14  3 15 12  7 13  6  1 13 17]\n",
      "[  12 1111   16   16   16   14   12    6]\n",
      "\n",
      "\n",
      "[12 14 16 16 16 14  3 15 12  7 13  6  1 13 17]\n",
      "[-9 -9 -9 -9 -9 -9  3 15 -9  7 13 -9  1 13 17]\n",
      "\n",
      "\n",
      "[ 0 10 20 30 40 50 60 70 80 90]\n",
      "[10 50 60 10]\n"
     ]
    }
   ],
   "source": [
    "'''Fancy indexing in numpy'''\n",
    "a = np.random.randint(0, 20, 15)\n",
    "print(a)\n",
    "\n",
    "mask = (a % 2 == 0)\n",
    "b = a[mask] # masking creates copies not views i.e, deep-copy\n",
    "print(b)\n",
    "b[1] = 1111\n",
    "print(a)\n",
    "print(b)\n",
    "\n",
    "print('\\n')\n",
    "print(a)\n",
    "a[mask] = -9\n",
    "print(a)\n",
    "\n",
    "print('\\n')\n",
    "a = np.arange(0, 100, 10) #Indexing with an array of integers\n",
    "print(a)\n",
    "print(a[[1,5,6,1]])"
   ]
  },
  {
   "cell_type": "code",
   "execution_count": 101,
   "metadata": {},
   "outputs": [
    {
     "name": "stdout",
     "output_type": "stream",
     "text": [
      "[20 21 22 23 24 25 26 27 28 29]\n",
      "[ 0  1  4  9 16 25 36 49 64 81]\n",
      "[-2. -1.  0.  1.  2.  3.  4.  5.  6.  7.]\n",
      "\n",
      "\n",
      "[[1 0 0 0]\n",
      " [0 2 0 0]\n",
      " [0 0 3 0]\n",
      " [0 0 0 4]]\n",
      "[[ 1  0  0  0]\n",
      " [ 0  4  0  0]\n",
      " [ 0  0  9  0]\n",
      " [ 0  0  0 16]]\n",
      "[[ 1  0  0  0]\n",
      " [ 0  4  0  0]\n",
      " [ 0  0  9  0]\n",
      " [ 0  0  0 16]]\n"
     ]
    }
   ],
   "source": [
    "'''Elementwise Operations'''\n",
    "a = np.arange(10)\n",
    "print(a + 20)\n",
    "print(a**2)\n",
    "b = np.ones(10) + 1\n",
    "print( a - b)\n",
    "\n",
    "print('\\n')\n",
    "m = np.diag([1,2,3,4])\n",
    "print(m)\n",
    "print(m*m) #matrix multiplication\n",
    "print(m.dot(m)) #matrix multiplication"
   ]
  },
  {
   "cell_type": "code",
   "execution_count": 124,
   "metadata": {},
   "outputs": [
    {
     "name": "stdout",
     "output_type": "stream",
     "text": [
      "[False  True False  True]\n",
      "[False  True  True  True]\n",
      "True\n",
      "False\n",
      "\n",
      "Logical Operations\n",
      "[ True False  True  True]\n",
      "[False False  True  True]\n",
      "\n",
      "Transcendental functions\n",
      "[1 3 5 7 9]\n",
      "[ 0.84147098  0.14112001 -0.95892427  0.6569866   0.41211849]\n",
      "[0.         1.09861229 1.60943791 1.94591015 2.19722458]\n",
      "5.0\n",
      "5.0\n",
      "***********************************************\n",
      "9\n",
      "4\n",
      "1\n",
      "0\n",
      "***********************************************\n",
      "[2.71828183e+00 2.00855369e+01 1.48413159e+02 1.09663316e+03\n",
      " 8.10308393e+03]\n",
      "25\n"
     ]
    }
   ],
   "source": [
    "'''Comparisons'''\n",
    "a = np.array([1, 2, 3, 4])\n",
    "b = np.array([5, 2, 2, 4])\n",
    "print(a==b)\n",
    "print(a>=b)\n",
    "c = np.array([1, 2, 3, 4])\n",
    "print(np.array_equal(a,c)) # np.array_equal() checks both arrays are equal are not\n",
    "print(np.array_equal(a,b)) # np.array_equal() checks both arrays are equal are not\n",
    "\n",
    "print('\\nLogical Operations')\n",
    "a = np.array([1,0,1,1], dtype=bool)\n",
    "b = np.array([0,0,1,1], dtype=bool)\n",
    "print(np.logical_or(a,b))\n",
    "print(np.logical_and(a,b))\n",
    "\n",
    "print('\\nTranscendental functions')\n",
    "a = np.arange(1,10,2)\n",
    "print(a)\n",
    "print(np.sin(a))\n",
    "print(np.log(a))\n",
    "print(np.mean(a))\n",
    "print(np.median(a))\n",
    "print('***********************************************')\n",
    "print(np.max(a))\n",
    "print(np.argmax(a))\n",
    "print(np.min(a))\n",
    "print(np.argmin(a))\n",
    "print('***********************************************')\n",
    "print(np.exp(a))\n",
    "print(np.sum(a))"
   ]
  },
  {
   "cell_type": "code",
   "execution_count": 135,
   "metadata": {},
   "outputs": [
    {
     "name": "stdout",
     "output_type": "stream",
     "text": [
      "[[1 2 3]\n",
      " [5 6 1]]\n",
      "*******************************************\n",
      "[2. 4.]\n",
      "[3. 4. 2.]\n",
      "3.0\n",
      "3.0\n",
      "*******************************************\n",
      "[2. 5.]\n",
      "[3. 4. 2.]\n",
      "2.5\n",
      "*******************************************\n",
      "[0.81649658 2.1602469 ]\n",
      "[2. 2. 1.]\n",
      "1.9148542155126762\n",
      "1.9148542155126762\n"
     ]
    }
   ],
   "source": [
    "'''Operations on Matrices'''\n",
    "a = np.array([[1, 2, 3], [5, 6, 1]])\n",
    "print(a)\n",
    "print('*******************************************')\n",
    "print(np.mean(a, axis = 1)) #axis=1 : row\n",
    "print(np.mean(a, axis = 0)) #axis=0 : column\n",
    "print(a.mean())\n",
    "print(np.mean(a))\n",
    "print('*******************************************')\n",
    "print(np.median(a, axis = 1)) #axis=1 : row\n",
    "print(np.median(a, axis = 0)) #axis=0 : column\n",
    "print(np.median(a))\n",
    "print('*******************************************')\n",
    "print(np.std(a, axis = 1)) #axis=1 : row\n",
    "print(np.std(a, axis = 0)) #axis=0 : column\n",
    "print(a.std())\n",
    "print(np.std(a))"
   ]
  },
  {
   "cell_type": "code",
   "execution_count": 152,
   "metadata": {},
   "outputs": [
    {
     "name": "stdout",
     "output_type": "stream",
     "text": [
      "[[ 1900. 30000.  4000. 48300.]\n",
      " [ 1901. 47200.  6100. 48200.]\n",
      " [ 1902. 70200.  9800. 41500.]\n",
      " [ 1903. 77400. 35200. 38200.]\n",
      " [ 1904. 36300. 59400. 40600.]\n",
      " [ 1905. 20600. 41700. 39800.]\n",
      " [ 1906. 18100. 19000. 38600.]\n",
      " [ 1907. 21400. 13000. 42300.]\n",
      " [ 1908. 22000.  8300. 44500.]\n",
      " [ 1909. 25400.  9100. 42100.]\n",
      " [ 1910. 27100.  7400. 46000.]\n",
      " [ 1911. 40300.  8000. 46800.]\n",
      " [ 1912. 57000. 12300. 43800.]\n",
      " [ 1913. 76600. 19500. 40900.]\n",
      " [ 1914. 52300. 45700. 39400.]\n",
      " [ 1915. 19500. 51100. 39000.]\n",
      " [ 1916. 11200. 29700. 36700.]\n",
      " [ 1917.  7600. 15800. 41800.]\n",
      " [ 1918. 14600.  9700. 43300.]\n",
      " [ 1919. 16200. 10100. 41300.]\n",
      " [ 1920. 24700.  8600. 47300.]]\n",
      "<class 'numpy.ndarray'>\n",
      "\n",
      "\n",
      "[1900. 1901. 1902. 1903. 1904. 1905. 1906. 1907. 1908. 1909. 1910. 1911.\n",
      " 1912. 1913. 1914. 1915. 1916. 1917. 1918. 1919. 1920.]\n",
      "\n",
      "The mean population over time\n",
      "[[30000.  4000. 48300.]\n",
      " [47200.  6100. 48200.]\n",
      " [70200.  9800. 41500.]\n",
      " [77400. 35200. 38200.]\n",
      " [36300. 59400. 40600.]\n",
      " [20600. 41700. 39800.]\n",
      " [18100. 19000. 38600.]\n",
      " [21400. 13000. 42300.]\n",
      " [22000.  8300. 44500.]\n",
      " [25400.  9100. 42100.]\n",
      " [27100.  7400. 46000.]\n",
      " [40300.  8000. 46800.]\n",
      " [57000. 12300. 43800.]\n",
      " [76600. 19500. 40900.]\n",
      " [52300. 45700. 39400.]\n",
      " [19500. 51100. 39000.]\n",
      " [11200. 29700. 36700.]\n",
      " [ 7600. 15800. 41800.]\n",
      " [14600.  9700. 43300.]\n",
      " [16200. 10100. 41300.]\n",
      " [24700.  8600. 47300.]]\n",
      "32215.873015873014\n",
      "\n",
      "Sample standard deviations\n",
      "[20897.90645809 16254.59153691  3322.50622558]\n",
      "\n",
      "Which species has the highest population each year?\n",
      "[2 2 0 0 1 1 2 2 2 2 2 2 0 0 0 1 2 2 2 2 2]\n"
     ]
    }
   ],
   "source": [
    "'''Data in populations.txt describes the populations of hares and lynxes (and carrots) in northern Canada during 20 years'''\n",
    "#load data into numpy array object\n",
    "data = np.loadtxt('populations.txt')\n",
    "print(data) # year\thare\tlynx\tcarrot\n",
    "print(type(data))\n",
    "\n",
    "print('\\n')\n",
    "year, hares, lynxes, carrots = data.T #columns to variables\n",
    "print(year)\n",
    "\n",
    "print('\\nThe mean population over time')\n",
    "hares_lynxes_carrots_matrix = data[ : , 1:]\n",
    "print(hares_lynxes_carrots_matrix)\n",
    "print(hares_lynxes_carrots_matrix.mean()) #mean\n",
    "\n",
    "print('\\nSample standard deviations')\n",
    "print(np.std(hares_lynxes_carrots_matrix, axis = 0))\n",
    "\n",
    "print('\\nWhich species has the highest population each year?')\n",
    "print(np.argmax(hares_lynxes_carrots_matrix, axis = 1))"
   ]
  },
  {
   "cell_type": "code",
   "execution_count": 171,
   "metadata": {},
   "outputs": [
    {
     "name": "stdout",
     "output_type": "stream",
     "text": [
      "[[10 20 40]\n",
      " [10 20 40]\n",
      " [10 20 40]]\n",
      "****************************\n",
      "[0 1 2]\n",
      "****************************\n",
      "[[10 21 42]\n",
      " [10 21 42]\n",
      " [10 21 42]]\n",
      "\n",
      "\n",
      "[ 0 10 20 30]\n",
      "(4,)\n",
      "****************************\n",
      "[[ 0]\n",
      " [10]\n",
      " [20]\n",
      " [30]]\n",
      "(4, 1)\n",
      "****************************\n",
      "[[ 0]\n",
      " [10]\n",
      " [20]\n",
      " [30]]\n",
      "[0 1 2]\n",
      "****************************\n",
      "[[ 0  1  2]\n",
      " [10 11 12]\n",
      " [20 21 22]\n",
      " [30 31 32]]\n"
     ]
    }
   ],
   "source": [
    "'''BroadCasting'''\n",
    "a = np.tile(np.array([10,20,40]), (3,1))\n",
    "print(a)\n",
    "print('****************************')\n",
    "b = np.array([0, 1, 2])\n",
    "print(b)\n",
    "print('****************************')\n",
    "print(a + b)\n",
    "\n",
    "print('\\n')\n",
    "a = np.arange(0, 40, 10)\n",
    "print(a)\n",
    "print(a.shape)\n",
    "print('****************************')\n",
    "a = a[ : , np.newaxis] # convertinf into 2-D array\n",
    "print(a)\n",
    "print(a.shape)\n",
    "print('****************************')\n",
    "print(a)\n",
    "print(b)\n",
    "print('****************************')\n",
    "print(a+b)"
   ]
  },
  {
   "cell_type": "code",
   "execution_count": 191,
   "metadata": {},
   "outputs": [
    {
     "name": "stdout",
     "output_type": "stream",
     "text": [
      "[[1 2 3]\n",
      " [4 5 6]]\n",
      "(2, 3)\n",
      "**************************\n",
      "[1 2 3 4 5 6]\n",
      "**************************\n",
      "[1 4 2 5 3 6]\n",
      "**************************\n",
      "[[1 2]\n",
      " [3 4]\n",
      " [5 6]]\n"
     ]
    }
   ],
   "source": [
    "'''Array Shape Manipulation'''\n",
    "a = np.array([[1, 2, 3], [4, 5, 6]])\n",
    "print(a)\n",
    "print(a.shape)\n",
    "print('**************************')\n",
    "print(a.ravel()) #Return a contiguous flattened array. \n",
    "#A 1-D array, containing the elements of the input, is returned. A copy is made only if needed\n",
    "print('**************************')\n",
    "print(a.T.ravel())\n",
    "print('**************************')\n",
    "b = a.ravel()\n",
    "b = b.reshape((3, 2)) #reshape of an array\n",
    "print(b)"
   ]
  },
  {
   "cell_type": "code",
   "execution_count": 196,
   "metadata": {},
   "outputs": [
    {
     "name": "stdout",
     "output_type": "stream",
     "text": [
      "\n",
      "\n",
      "[[[ 0  1]\n",
      "  [ 2  3]\n",
      "  [ 4  5]]\n",
      "\n",
      " [[ 6  7]\n",
      "  [ 8  9]\n",
      "  [10 11]]\n",
      "\n",
      " [[12 13]\n",
      "  [14 15]\n",
      "  [16 17]]\n",
      "\n",
      " [[18 19]\n",
      "  [20 21]\n",
      "  [22 23]]]\n",
      "**************************\n",
      "[[5 4 6]\n",
      " [2 3 2]]\n",
      "**************************\n",
      "[[4 5 6]\n",
      " [2 2 3]]\n"
     ]
    }
   ],
   "source": [
    "print('\\n')\n",
    "a = np.arange(4*3*2).reshape(4, 3, 2)\n",
    "print(a)\n",
    "print('**************************')\n",
    "a = np.array([[5, 4, 6], [2, 3, 2]])\n",
    "print(a)\n",
    "b = np.sort(a, axis=1)\n",
    "print('**************************')\n",
    "print(b)"
   ]
  },
  {
   "cell_type": "code",
   "execution_count": 195,
   "metadata": {},
   "outputs": [
    {
     "name": "stdout",
     "output_type": "stream",
     "text": [
      "[2 3 1 0]\n",
      "[10 20 30 40]\n"
     ]
    }
   ],
   "source": [
    "#sorting with fancy indexing\n",
    "a = np.array([40, 30, 10, 20])\n",
    "j = np.argsort(a)\n",
    "print(j)\n",
    "print(a[j])"
   ]
  }
 ],
 "metadata": {
  "kernelspec": {
   "display_name": "Python 3",
   "language": "python",
   "name": "python3"
  },
  "language_info": {
   "codemirror_mode": {
    "name": "ipython",
    "version": 3
   },
   "file_extension": ".py",
   "mimetype": "text/x-python",
   "name": "python",
   "nbconvert_exporter": "python",
   "pygments_lexer": "ipython3",
   "version": "3.8.1"
  }
 },
 "nbformat": 4,
 "nbformat_minor": 4
}
