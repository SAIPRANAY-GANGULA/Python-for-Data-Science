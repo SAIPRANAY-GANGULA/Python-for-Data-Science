{
 "cells": [
  {
   "cell_type": "code",
   "execution_count": 1,
   "metadata": {
    "colab": {},
    "colab_type": "code",
    "id": "bZw5VY9fXvdu",
    "outputId": "d1bdfd52-9af6-4330-efb9-9ebb703ee79d"
   },
   "outputs": [
    {
     "name": "stdout",
     "output_type": "stream",
     "text": [
      "[88, 34, 60, 56, 84, 16, 55, 38, 39, 22, 5, 0, 32, 49, 29, 77, 91, 72, 53, 10, 81, 37, 90, 8, 69, 27, 18, 92, 36, 64, 79, 47, 62, 54, 95, 66, 58, 46, 45, 28, 31, 1, 20, 48, 67, 30, 4, 14, 61, 85, 65, 6, 74, 42, 35, 44, 76, 57, 15, 17, 86, 71, 43, 40, 59, 9, 2, 96, 52, 80, 26, 23, 51, 11, 63, 7, 24, 19, 99, 33, 75, 89, 70, 50, 68, 93, 78, 25, 94, 98, 13, 3, 83, 97, 12, 41, 73, 82, 87, 21]\n"
     ]
    }
   ],
   "source": [
    "import numpy as np\n",
    "import random\n",
    "\n",
    "l = list(range(100))\n",
    "random.shuffle(l)\n",
    "\n",
    "print(l)"
   ]
  },
  {
   "cell_type": "code",
   "execution_count": 0,
   "metadata": {
    "colab": {},
    "colab_type": "code",
    "id": "QBhWRfIaXvd3",
    "outputId": "c2d20f56-420e-44e6-a63f-ab10056d1e19"
   },
   "outputs": [
    {
     "name": "stdout",
     "output_type": "stream",
     "text": [
      "Found\n"
     ]
    }
   ],
   "source": [
    "# search for an elemnt q in the list: O(n) where n is the length of the list\n",
    "q = 31\n",
    "isFound=False;\n",
    "for ele in l:\n",
    "    if ele==31:\n",
    "        print(\"Found\")\n",
    "        isFound=True\n",
    "        break;\n",
    "if isFound == False:\n",
    "    print(\"Not Found\")\n",
    "    \n",
    "    \n"
   ]
  },
  {
   "cell_type": "code",
   "execution_count": 2,
   "metadata": {
    "colab": {},
    "colab_type": "code",
    "id": "JvSHC5wDXvd8",
    "outputId": "155594e9-0a86-4f6a-df8b-c409fd737d42"
   },
   "outputs": [
    {
     "data": {
      "text/plain": [
       "31"
      ]
     },
     "execution_count": 2,
     "metadata": {},
     "output_type": "execute_result"
    }
   ],
   "source": [
    "#What if the list is sorted? Can we search faster?\n",
    "# Show O(log n)\n",
    "\n",
    "import math\n",
    "\n",
    "#Source: http://www.geeksforgeeks.org/binary-search/ \n",
    "#Returns index of x in arr if present, else -1\n",
    "def binarySearch (arr, l, r, x):\n",
    " \n",
    "    # Check base case\n",
    "    if r >= l:\n",
    " \n",
    "        mid = l + math.floor((r - l)/2)\n",
    " \n",
    "        # If element is present at the middle itself\n",
    "        if arr[mid] == x:\n",
    "            return mid\n",
    "         \n",
    "        # If element is smaller than mid, then it can only\n",
    "        # be present in left subarray\n",
    "        elif arr[mid] > x:\n",
    "            return binarySearch(arr, l, mid-1, x)\n",
    " \n",
    "        # Else the element can only be present in right subarray\n",
    "        else:\n",
    "            return binarySearch(arr, mid+1, r, x)\n",
    " \n",
    "    else:\n",
    "        # Element is not present in the array\n",
    "        return -1\n",
    "\n",
    "\n",
    "l.sort();\n",
    "arr = l;\n",
    "q =31;\n",
    "binarySearch(arr,0,len(arr)-1,q)\n",
    "\n"
   ]
  },
  {
   "cell_type": "code",
   "execution_count": 4,
   "metadata": {
    "colab": {},
    "colab_type": "code",
    "id": "N43KYlGTXveA",
    "outputId": "1e6c9de5-fe78-486c-9a67-b1f5f379064e"
   },
   "outputs": [
    {
     "name": "stdout",
     "output_type": "stream",
     "text": [
      "3\n",
      "4\n",
      "1\n",
      "0\n",
      "2\n",
      "Number of common elements: 5\n"
     ]
    }
   ],
   "source": [
    "# Find elements common in two lists:\n",
    "l1 = list(range(10))\n",
    "random.shuffle(l1)\n",
    "\n",
    "\n",
    "l2 = list(range(5))\n",
    "random.shuffle(l2)\n",
    "\n",
    "# find common elements : O(n*m)\n",
    "cnt=0;\n",
    "for i in l1:\n",
    "    for j in l2:\n",
    "        if i==j:\n",
    "            print(i)\n",
    "            cnt += 1;\n",
    "print(\"Number of common elements:\", cnt)                      "
   ]
  },
  {
   "cell_type": "code",
   "execution_count": 0,
   "metadata": {
    "colab": {},
    "colab_type": "code",
    "id": "kIQGrDDlXveD",
    "outputId": "7bbd6294-f7e5-47ed-9eb6-eb71d64a3e9d"
   },
   "outputs": [
    {
     "name": "stdout",
     "output_type": "stream",
     "text": [
      "21\n",
      "44\n",
      "17\n",
      "30\n",
      "23\n",
      "2\n",
      "15\n",
      "37\n",
      "24\n",
      "29\n",
      "45\n",
      "10\n",
      "32\n",
      "7\n",
      "19\n",
      "36\n",
      "47\n",
      "14\n",
      "41\n",
      "16\n",
      "5\n",
      "42\n",
      "34\n",
      "33\n",
      "39\n",
      "0\n",
      "31\n",
      "1\n",
      "27\n",
      "35\n",
      "22\n",
      "8\n",
      "46\n",
      "20\n",
      "18\n",
      "13\n",
      "25\n",
      "3\n",
      "26\n",
      "12\n",
      "40\n",
      "49\n",
      "4\n",
      "6\n",
      "11\n",
      "9\n",
      "38\n",
      "28\n",
      "48\n",
      "43\n",
      "Number of common elements: 50\n"
     ]
    }
   ],
   "source": [
    "# Find elements common in two lists:\n",
    "l1 = list(range(100))\n",
    "random.shuffle(l1)\n",
    "\n",
    "\n",
    "l2 = list(range(50))\n",
    "random.shuffle(l2)\n",
    "\n",
    "# find common elemnts in lists in O(n) time and O(m) space if m<n\n",
    "\n",
    "## add all elements in the smallest list into a hashtable/Dict: O(m) space\n",
    "smallList = {}\n",
    "for ele in l2:\n",
    "    smallList[ele] = 1; # any value is OK. Key is important\n",
    "    \n",
    "# Now find common element \n",
    "cnt=0;\n",
    "for i in l1:\n",
    "    if smallList.get(i) != None: # search happens in constant time.\n",
    "        print(i);\n",
    "        cnt += 1;\n",
    "print(\"Number of common elements:\", cnt)                      "
   ]
  },
  {
   "cell_type": "code",
   "execution_count": 0,
   "metadata": {
    "colab": {},
    "colab_type": "code",
    "id": "6aVBXWL0XveG"
   },
   "outputs": [],
   "source": []
  }
 ],
 "metadata": {
  "colab": {
   "name": "ComputationalComplexity.ipynb",
   "provenance": [],
   "version": "0.3.2"
  },
  "kernelspec": {
   "display_name": "Python 3",
   "language": "python",
   "name": "python3"
  },
  "language_info": {
   "codemirror_mode": {
    "name": "ipython",
    "version": 3
   },
   "file_extension": ".py",
   "mimetype": "text/x-python",
   "name": "python",
   "nbconvert_exporter": "python",
   "pygments_lexer": "ipython3",
   "version": "3.8.1"
  }
 },
 "nbformat": 4,
 "nbformat_minor": 1
}
